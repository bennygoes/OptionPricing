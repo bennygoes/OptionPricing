{
 "cells": [
  {
   "cell_type": "code",
   "execution_count": null,
   "id": "7ed27fed",
   "metadata": {},
   "outputs": [],
   "source": [
    "\n",
    "import yfinance as yf\n",
    "import pandas as pd\n",
    "import numpy as np\n",
    "import matplotlib.pyplot as plt\n",
    "from models.option_pricing_models import BlackScholesModel, BinomialTreeModel, SABRModel\n"
   ]
  },
  {
   "cell_type": "code",
   "execution_count": null,
   "id": "9b981bd6",
   "metadata": {},
   "outputs": [],
   "source": []
  },
  {
   "cell_type": "code",
   "execution_count": null,
   "id": "b483970f",
   "metadata": {},
   "outputs": [],
   "source": [
    "\n",
    "ticker = \"AAPL\"\n",
    "expiration = \"2024-12-20\"\n",
    "opt = yf.Ticker(ticker)\n",
    "calls = opt.option_chain(expiration).calls\n",
    "spot_price = opt.history(period=\"1d\")['Close'].iloc[-1]\n"
   ]
  },
  {
   "cell_type": "code",
   "execution_count": null,
   "id": "1a81c082",
   "metadata": {},
   "outputs": [],
   "source": [
    "\n",
    "calls = calls[['strike', 'impliedVolatility', 'bid', 'ask']].dropna()\n",
    "calls = calls[calls['impliedVolatility'] > 0]\n",
    "calls = calls[calls['bid'] > 0]\n",
    "calls['MidPrice'] = (calls['bid'] + calls['ask']) / 2\n",
    "T = (pd.to_datetime(expiration) - pd.Timestamp.today()).days / 365\n",
    "r = 0.04\n",
    "sigma_col = 'impliedVolatility'\n"
   ]
  },
  {
   "cell_type": "code",
   "execution_count": null,
   "id": "0572b2f1",
   "metadata": {},
   "outputs": [],
   "source": [
    "\n",
    "bs_model = BlackScholesModel(r=r)\n",
    "bt_model = BinomialTreeModel(r=r, steps=100)\n",
    "sabr_model = SABRModel(alpha=0.3, beta=0.5, rho=-0.3, nu=0.5, r=r)\n"
   ]
  },
  {
   "cell_type": "code",
   "execution_count": null,
   "id": "05f4ad20",
   "metadata": {},
   "outputs": [],
   "source": [
    "\n",
    "def compute_errors(df, spot, T, r):\n",
    "    bs_prices, bt_prices, sabr_prices = [], [], []\n",
    "    for _, row in df.iterrows():\n",
    "        K = row['strike']\n",
    "        sigma = row[sigma_col]\n",
    "        market_price = row['MidPrice']\n",
    "\n",
    "        bs_price = bs_model.price(spot, K, T, sigma, option_type='call')\n",
    "        bt_price = bt_model.price(spot, K, T, sigma, option_type='call')\n",
    "        sabr_price = sabr_model.price(spot, K, T, option_type='call')\n",
    "\n",
    "        bs_prices.append(bs_price)\n",
    "        bt_prices.append(bt_price)\n",
    "        sabr_prices.append(sabr_price)\n",
    "\n",
    "    df['BSPrice'] = bs_prices\n",
    "    df['BTPrice'] = bt_prices\n",
    "    df['SABRPrice'] = sabr_prices\n",
    "\n",
    "    for col in ['BSPrice', 'BTPrice', 'SABRPrice']:\n",
    "        df[f'{col}_RelError'] = np.abs(df[col] - df['MidPrice']) / df['MidPrice']\n",
    "\n",
    "    return df\n",
    "\n",
    "calls = compute_errors(calls, spot_price, T, r)\n",
    "calls[['strike', 'MidPrice', 'BSPrice_RelError', 'BTPrice_RelError', 'SABRPrice_RelError']].head()\n"
   ]
  },
  {
   "cell_type": "code",
   "execution_count": null,
   "id": "c1500d57",
   "metadata": {},
   "outputs": [],
   "source": [
    "\n",
    "plt.figure(figsize=(10, 6))\n",
    "plt.plot(calls['strike'], calls['BSPrice_RelError'], label='Black-Scholes', marker='o')\n",
    "plt.plot(calls['strike'], calls['BTPrice_RelError'], label='Binomial Tree', marker='x')\n",
    "plt.plot(calls['strike'], calls['SABRPrice_RelError'], label='SABR', marker='s')\n",
    "plt.xlabel(\"Strike Price\")\n",
    "plt.ylabel(\"Relative Error\")\n",
    "plt.title(\"Relative Pricing Error by Model\")\n",
    "plt.legend()\n",
    "plt.grid(True)\n",
    "plt.tight_layout()\n",
    "plt.show()\n"
   ]
  }
 ],
 "metadata": {
  "kernelspec": {
   "display_name": "Python 3",
   "language": "python",
   "name": "python3"
  },
  "language_info": {
   "name": "python",
   "version": "3.11.3"
  }
 },
 "nbformat": 4,
 "nbformat_minor": 5
}
